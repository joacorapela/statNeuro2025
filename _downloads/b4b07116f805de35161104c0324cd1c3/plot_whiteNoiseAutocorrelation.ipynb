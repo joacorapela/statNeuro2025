{
  "cells": [
    {
      "cell_type": "markdown",
      "metadata": {},
      "source": [
        "\n# White noise analytical and estimated autocorrelation, and 95% confidence interval\n"
      ]
    },
    {
      "cell_type": "markdown",
      "metadata": {},
      "source": [
        "## Import requirements\n\n"
      ]
    },
    {
      "cell_type": "code",
      "execution_count": null,
      "metadata": {
        "collapsed": false
      },
      "outputs": [],
      "source": [
        "import os\nimport numpy as np\nimport plotly.graph_objects as go"
      ]
    },
    {
      "cell_type": "markdown",
      "metadata": {},
      "source": [
        "## Define variables\n\n"
      ]
    },
    {
      "cell_type": "code",
      "execution_count": null,
      "metadata": {
        "collapsed": false
      },
      "outputs": [],
      "source": [
        "srate = 1\nT = 10000\nsigma = 1.0\nlags = np.arange(20)"
      ]
    },
    {
      "cell_type": "markdown",
      "metadata": {},
      "source": [
        "## Create white noise\n\n\n"
      ]
    },
    {
      "cell_type": "code",
      "execution_count": null,
      "metadata": {
        "collapsed": false
      },
      "outputs": [],
      "source": [
        "time = np.arange(0, T, 1.0/srate)\nN = len(time)\nw = np.random.normal(loc=0, scale=sigma, size=N)"
      ]
    },
    {
      "cell_type": "markdown",
      "metadata": {},
      "source": [
        "## Estimate autocorrelation\n\n\n"
      ]
    },
    {
      "cell_type": "code",
      "execution_count": null,
      "metadata": {
        "collapsed": false
      },
      "outputs": [],
      "source": [
        "anaAcor = np.zeros(len(lags))\nanaAcor[0] = sigma\nestAcor = np.zeros(len(lags))\nwMu = np.mean(w)\nwSTD = np.std(w)\nfor h in lags:\n    if h == 0:\n        estAcor[h] = 1.0\n    else:\n        xs = w[h:] - wMu\n        xt = w[:-h] - wMu\n        estAcor[h] = np.mean(xs * xt)/wSTD"
      ]
    },
    {
      "cell_type": "markdown",
      "metadata": {},
      "source": [
        "## Plot white noise analytical and estimated autocorrelations plus 95% confidence interval\n\n\n"
      ]
    },
    {
      "cell_type": "code",
      "execution_count": null,
      "metadata": {
        "collapsed": false
      },
      "outputs": [],
      "source": [
        "fig = go.Figure()\ntrace = go.Scatter(x=lags, y=anaAcor, mode=\"lines+markers\", name=\"analytical\")\nfig.add_trace(trace)\ntrace = go.Scatter(x=lags, y=estAcor, mode=\"lines+markers\", name=\"estimated\")\nfig.add_trace(trace)\nfig.add_hline(y=1.96/np.sqrt(N), line=dict(dash=\"dash\"))\nfig.add_hline(y=-1.96/np.sqrt(N), line=dict(dash=\"dash\"))\nfig.update_layout(title=f\"N={T}\", xaxis=dict(title=\"Lag (samples)\"),\n                  yaxis=dict(title=\"Autocorrelation\"))\n\nif not os.path.exists(\"figures\"):\n    os.mkdir(\"figures\")\n\nfig.write_html(f\"figures/whiteNoiseAutoCorN{T}.html\")\nfig.write_image(f\"figures/whiteNoiseAutoCorN{T}.png\")\n\nfig"
      ]
    }
  ],
  "metadata": {
    "kernelspec": {
      "display_name": "Python 3",
      "language": "python",
      "name": "python3"
    },
    "language_info": {
      "codemirror_mode": {
        "name": "ipython",
        "version": 3
      },
      "file_extension": ".py",
      "mimetype": "text/x-python",
      "name": "python",
      "nbconvert_exporter": "python",
      "pygments_lexer": "ipython3",
      "version": "3.13.2"
    }
  },
  "nbformat": 4,
  "nbformat_minor": 0
}