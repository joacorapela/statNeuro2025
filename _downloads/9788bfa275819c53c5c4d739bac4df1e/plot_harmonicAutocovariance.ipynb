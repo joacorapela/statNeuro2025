{
  "cells": [
    {
      "cell_type": "markdown",
      "metadata": {},
      "source": [
        "\n# Harmonic process analytical and estimated autocovariance\n"
      ]
    },
    {
      "cell_type": "markdown",
      "metadata": {},
      "source": [
        "## Import requirements\n\n"
      ]
    },
    {
      "cell_type": "code",
      "execution_count": null,
      "metadata": {
        "collapsed": false
      },
      "outputs": [],
      "source": [
        "import os\nimport numpy as np\nimport plotly.graph_objects as go"
      ]
    },
    {
      "cell_type": "markdown",
      "metadata": {},
      "source": [
        "## Define variables\n\n"
      ]
    },
    {
      "cell_type": "code",
      "execution_count": null,
      "metadata": {
        "collapsed": false
      },
      "outputs": [],
      "source": [
        "min_freq = 1.0 # Hertz\nmax_freq = 30.0 # Hertz\nsrate = int(10 * max_freq)\n# T = 1.2 # sec\nT = 50 # sec\nK = 20\n# K = 1\nmax_A = 20.0\nmin_A = 0.0\nlags_samples = np.arange(srate) # samples"
      ]
    },
    {
      "cell_type": "markdown",
      "metadata": {},
      "source": [
        "## Set harmonic process constants\n\n\n"
      ]
    },
    {
      "cell_type": "code",
      "execution_count": null,
      "metadata": {
        "collapsed": false
      },
      "outputs": [],
      "source": [
        "A = np.linspace(start=min_A, stop=max_A, num=K)\nf = np.linspace(start=min_freq, stop=max_freq, num=K)\nw = 2*np.pi*f\nphi = np.random.uniform(low=-np.pi, high=np.pi, size=K)"
      ]
    },
    {
      "cell_type": "markdown",
      "metadata": {},
      "source": [
        "## Create samples\n\n\n"
      ]
    },
    {
      "cell_type": "code",
      "execution_count": null,
      "metadata": {
        "collapsed": false
      },
      "outputs": [],
      "source": [
        "time = np.arange(0, T, 1.0/srate)\nx = np.zeros(shape=len(time), dtype=np.double)\nfor k in range(K):\n    x += A[k] * np.cos(w[k] * time + phi[k])\n\nfig = go.Figure()\ntrace = go.Scatter(x=time, y=x, mode=\"lines+markers\", showlegend=False)\nfig.add_trace(trace)\nfig.update_layout(title=f\"N={T*srate}\", xaxis=dict(title=\"Time (sec)\"),\n                  yaxis=dict(title=\"x\"))\n\nif not os.path.exists(\"figures\"):\n    os.mkdir(\"figures\")\n\nfig.write_html(f\"figures/harmonicAutoCovN{T*srate}x.html\")\nfig.write_image(f\"figures/harmonicAutoCovN{T*srate}x.png\")\n\nfig"
      ]
    },
    {
      "cell_type": "markdown",
      "metadata": {},
      "source": [
        "## Estimate autocovariance\n\n\n"
      ]
    },
    {
      "cell_type": "code",
      "execution_count": null,
      "metadata": {
        "collapsed": false
      },
      "outputs": [],
      "source": [
        "estAcov = np.zeros(len(lags_samples))\nanaAcov = np.zeros(len(lags_samples))\nxMu = np.mean(x)\nfor h in lags_samples:\n    if h > 0:\n        xs = x[h:] - xMu\n        xt = x[:-h] - xMu\n    elif h == 0:\n        xs = x - xMu\n        xt = x - xMu\n    estAcov[h] = np.mean(xs * xt)\n    lag_secs = h/srate\n    anaAcov[h] = .5 * np.sum(A**2 * np.cos(w * lag_secs))"
      ]
    },
    {
      "cell_type": "markdown",
      "metadata": {},
      "source": [
        "## Plot analytical and estimated autocovariance\n\n\n"
      ]
    },
    {
      "cell_type": "code",
      "execution_count": null,
      "metadata": {
        "collapsed": false
      },
      "outputs": [],
      "source": [
        "lags_secs = lags_samples/srate\n\nfig = go.Figure()\ntrace = go.Scatter(x=lags_secs, y=anaAcov, mode=\"lines+markers\", name=\"analytical\")\nfig.add_trace(trace)\ntrace = go.Scatter(x=lags_secs, y=estAcov, mode=\"lines+markers\", name=\"estimated\")\nfig.add_trace(trace)\nfig.update_layout(title=f\"N={T*srate}\", xaxis=dict(title=\"Lag (sec)\"),\n                  yaxis=dict(title=\"Autocovariance\"))\n\nif not os.path.exists(\"figures\"):\n    os.mkdir(\"figures\")\n\nfig.write_html(f\"figures/harmonicAutoCovN{T*srate}.html\")\nfig.write_image(f\"figures/harmonicAutoCovN{T*srate}.png\")\n\nfig"
      ]
    }
  ],
  "metadata": {
    "kernelspec": {
      "display_name": "Python 3",
      "language": "python",
      "name": "python3"
    },
    "language_info": {
      "codemirror_mode": {
        "name": "ipython",
        "version": 3
      },
      "file_extension": ".py",
      "mimetype": "text/x-python",
      "name": "python",
      "nbconvert_exporter": "python",
      "pygments_lexer": "ipython3",
      "version": "3.13.2"
    }
  },
  "nbformat": 4,
  "nbformat_minor": 0
}