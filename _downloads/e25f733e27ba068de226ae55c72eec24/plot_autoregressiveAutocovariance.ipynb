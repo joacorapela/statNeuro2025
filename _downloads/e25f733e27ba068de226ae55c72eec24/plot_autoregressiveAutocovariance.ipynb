{
  "cells": [
    {
      "cell_type": "markdown",
      "metadata": {},
      "source": [
        "\n# AR(1) analytical and estimated autocovariance\n"
      ]
    },
    {
      "cell_type": "markdown",
      "metadata": {},
      "source": [
        "## Import requirements\n\n"
      ]
    },
    {
      "cell_type": "code",
      "execution_count": null,
      "metadata": {
        "collapsed": false
      },
      "outputs": [],
      "source": [
        "import os\nimport numpy as np\nimport plotly.graph_objects as go"
      ]
    },
    {
      "cell_type": "markdown",
      "metadata": {},
      "source": [
        "## Define variables\n\n"
      ]
    },
    {
      "cell_type": "code",
      "execution_count": null,
      "metadata": {
        "collapsed": false
      },
      "outputs": [],
      "source": [
        "srate = 1\nT = 10000\nsigma = 1.0\nphi = -0.9\nlags = np.arange(20)"
      ]
    },
    {
      "cell_type": "markdown",
      "metadata": {},
      "source": [
        "## Create white noise\n\n\n"
      ]
    },
    {
      "cell_type": "code",
      "execution_count": null,
      "metadata": {
        "collapsed": false
      },
      "outputs": [],
      "source": [
        "time = np.arange(0, T, 1.0/srate)\nN = len(time)\nw = np.random.normal(loc=0, scale=sigma, size=N)"
      ]
    },
    {
      "cell_type": "markdown",
      "metadata": {},
      "source": [
        "## Create autoregressive time series\n\n\n"
      ]
    },
    {
      "cell_type": "code",
      "execution_count": null,
      "metadata": {
        "collapsed": false
      },
      "outputs": [],
      "source": [
        "ar = np.empty(len(w), dtype=np.double)\nar[0] = w[0]\nfor i in range(1, len(w)):\n    ar[i] = phi * ar[i-1] + w[i]"
      ]
    },
    {
      "cell_type": "markdown",
      "metadata": {},
      "source": [
        "## Estimate autocovariance\n\n\n"
      ]
    },
    {
      "cell_type": "code",
      "execution_count": null,
      "metadata": {
        "collapsed": false
      },
      "outputs": [],
      "source": [
        "estAcov = np.zeros(len(lags))\nanaAcov = np.zeros(len(lags))\narMu = np.mean(ar)\nfor h in lags:\n    if h > 0:\n        xs = ar[h:] - arMu\n        xt = ar[:-h] - arMu\n    elif h == 0:\n        xs = ar - arMu\n        xt = ar - arMu\n    estAcov[h] = np.mean(xs * xt)\n    anaAcov[h] = phi**h * sigma**2 / (1 - phi**2)"
      ]
    },
    {
      "cell_type": "markdown",
      "metadata": {},
      "source": [
        "## Plot autoregressive time series, true and estimated autocovariance\n\n\n"
      ]
    },
    {
      "cell_type": "code",
      "execution_count": null,
      "metadata": {
        "collapsed": false
      },
      "outputs": [],
      "source": [
        "fig = go.Figure()\ntrace = go.Scatter(x=time, y=ar, mode=\"lines+markers\")\nfig.add_trace(trace)\nfig.update_layout(xaxis=dict(title=\"Time (sec)\"), yaxis=dict(title=\"x\"))\n\nif not os.path.exists(\"figures\"):\n    os.mkdir(\"figures\")\n\nfig.write_html(f\"figures/autoregressiveSamplesN{T}.html\")\nfig.write_image(f\"figures/autoregressiveSamplesN{T}.png\")\n\nfig = go.Figure()\ntrace = go.Scatter(x=lags, y=anaAcov, mode=\"lines+markers\", name=\"analytical\")\nfig.add_trace(trace)\ntrace = go.Scatter(x=lags, y=estAcov, mode=\"lines+markers\", name=\"estimated\")\nfig.add_trace(trace)\nfig.update_layout(title=f\"N={T}\", xaxis=dict(title=\"Lag (samples)\"),\n                  yaxis=dict(title=\"Autocovariance\"))\n\nif not os.path.exists(\"figures\"):\n    os.mkdir(\"figures\")\n\nfig.write_html(f\"figures/autoregressiveAutoCovN{T}.html\")\nfig.write_image(f\"figures/autoregressiveAutoCovN{T}.png\")\n\nfig"
      ]
    }
  ],
  "metadata": {
    "kernelspec": {
      "display_name": "Python 3",
      "language": "python",
      "name": "python3"
    },
    "language_info": {
      "codemirror_mode": {
        "name": "ipython",
        "version": 3
      },
      "file_extension": ".py",
      "mimetype": "text/x-python",
      "name": "python",
      "nbconvert_exporter": "python",
      "pygments_lexer": "ipython3",
      "version": "3.13.2"
    }
  },
  "nbformat": 4,
  "nbformat_minor": 0
}