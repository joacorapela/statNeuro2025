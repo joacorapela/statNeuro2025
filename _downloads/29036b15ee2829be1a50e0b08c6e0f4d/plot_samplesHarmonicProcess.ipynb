{
  "cells": [
    {
      "cell_type": "markdown",
      "metadata": {},
      "source": [
        "\n# Plotting samples from harmonic process\n"
      ]
    },
    {
      "cell_type": "markdown",
      "metadata": {},
      "source": [
        "## Import requirements\n\n"
      ]
    },
    {
      "cell_type": "code",
      "execution_count": null,
      "metadata": {
        "collapsed": false
      },
      "outputs": [],
      "source": [
        "import os\nimport numpy as np\nimport plotly.graph_objects as go"
      ]
    },
    {
      "cell_type": "markdown",
      "metadata": {},
      "source": [
        "## Define variables\n\n"
      ]
    },
    {
      "cell_type": "code",
      "execution_count": null,
      "metadata": {
        "collapsed": false
      },
      "outputs": [],
      "source": [
        "min_freq = 1.0 # Hertz\nmax_freq = 50.0 # Hertz\nsrate = int(10 * max_freq)\nT = 2 # sec\nK = 20\nmin_A = 0.0\nmax_A = 20.0\n\nn_time_series_to_plot = 100\ncb_width = 5"
      ]
    },
    {
      "cell_type": "markdown",
      "metadata": {},
      "source": [
        "## Set harmonic process constants\n\n\n"
      ]
    },
    {
      "cell_type": "code",
      "execution_count": null,
      "metadata": {
        "collapsed": false
      },
      "outputs": [],
      "source": [
        "A = np.linspace(start=min_A, stop=max_A, num=K)\nf = np.linspace(start=min_freq, stop=max_freq, num=K)\nw = 2*np.pi*f\nphi = np.random.uniform(low=-np.pi, high=np.pi, size=[K, n_time_series_to_plot])"
      ]
    },
    {
      "cell_type": "markdown",
      "metadata": {},
      "source": [
        "## Create samples\n\n\n"
      ]
    },
    {
      "cell_type": "code",
      "execution_count": null,
      "metadata": {
        "collapsed": false
      },
      "outputs": [],
      "source": [
        "time = np.arange(0, T, 1.0/srate)\nx = np.zeros(shape=[n_time_series_to_plot, len(time)], dtype=np.double)\nfor i in range(n_time_series_to_plot):\n    # generate the ith time series\n    for k in range(K):\n        x[i, :] += A[k] * np.cos(w[k] * time + phi[k, i])"
      ]
    },
    {
      "cell_type": "markdown",
      "metadata": {},
      "source": [
        "## Calculate analytical variance and 95% confidence band\n\n\n"
      ]
    },
    {
      "cell_type": "code",
      "execution_count": null,
      "metadata": {
        "collapsed": false
      },
      "outputs": [],
      "source": [
        "mean = np.zeros(shape=len(time), dtype=np.double)\nvar = np.sum(A**2) / 2.0\ncb_up = mean + 1.96 * np.sqrt(var)\ncb_down = mean - 1.96 * np.sqrt(var)"
      ]
    },
    {
      "cell_type": "markdown",
      "metadata": {},
      "source": [
        "## Plot time series with mean and 95% confidence band\n\n\n"
      ]
    },
    {
      "cell_type": "code",
      "execution_count": null,
      "metadata": {
        "collapsed": false
      },
      "outputs": [],
      "source": [
        "fig = go.Figure()\nfor j in range(n_time_series_to_plot):\n    trace = go.Scatter(x=time, y=x[j, :], mode=\"lines+markers\",\n                       name=f\"sample {j}\", showlegend=True)\n    fig.add_trace(trace)\nfig.update_layout(xaxis=dict(title=\"Time (sec)\"), yaxis=dict(title=\"x\"))\ntrace = go.Scatter(x=time, y=mean,\n                   line=dict(color=\"black\", width=cb_width),\n                   mode=\"lines\", showlegend=False)\nfig.add_trace(trace)\ntrace = go.Scatter(x=time, y=cb_down,\n                   line=dict(color=\"black\", dash=\"dash\", width=cb_width),\n                   mode=\"lines\", showlegend=False)\nfig.add_trace(trace)\ntrace = go.Scatter(x=time, y=cb_up,\n                   line=dict(color=\"black\", dash=\"dash\", width=cb_width),\n                   mode=\"lines\", showlegend=False)\nfig.add_trace(trace)\nfig.update_layout(xaxis=dict(title=\"Time (sec)\"), yaxis=dict(title=\"x\"))\n\n\nif not os.path.exists(\"figures\"):\n    os.mkdir(\"figures\")\n\nfig.write_html(\"figures/harmonicSamples.html\")\nfig.write_image(\"figures/harmonicSamples.png\")\n\nfig"
      ]
    }
  ],
  "metadata": {
    "kernelspec": {
      "display_name": "Python 3",
      "language": "python",
      "name": "python3"
    },
    "language_info": {
      "codemirror_mode": {
        "name": "ipython",
        "version": 3
      },
      "file_extension": ".py",
      "mimetype": "text/x-python",
      "name": "python",
      "nbconvert_exporter": "python",
      "pygments_lexer": "ipython3",
      "version": "3.13.2"
    }
  },
  "nbformat": 4,
  "nbformat_minor": 0
}