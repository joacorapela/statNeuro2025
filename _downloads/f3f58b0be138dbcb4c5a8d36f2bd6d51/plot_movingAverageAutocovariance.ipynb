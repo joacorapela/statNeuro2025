{
  "cells": [
    {
      "cell_type": "markdown",
      "metadata": {},
      "source": [
        "\n# Moving average analytical and estimated autocovariance\n"
      ]
    },
    {
      "cell_type": "markdown",
      "metadata": {},
      "source": [
        "## Import requirements\n\n"
      ]
    },
    {
      "cell_type": "code",
      "execution_count": null,
      "metadata": {
        "collapsed": false
      },
      "outputs": [],
      "source": [
        "import os\nimport numpy as np\nimport plotly.graph_objects as go"
      ]
    },
    {
      "cell_type": "markdown",
      "metadata": {},
      "source": [
        "## Define variables\n\n"
      ]
    },
    {
      "cell_type": "code",
      "execution_count": null,
      "metadata": {
        "collapsed": false
      },
      "outputs": [],
      "source": [
        "srate = 1\nT = 100\nsigma = 1.0\nlags = np.arange(20)"
      ]
    },
    {
      "cell_type": "markdown",
      "metadata": {},
      "source": [
        "## Create white noise\n\n\n"
      ]
    },
    {
      "cell_type": "code",
      "execution_count": null,
      "metadata": {
        "collapsed": false
      },
      "outputs": [],
      "source": [
        "time = np.arange(0, T, 1.0/srate)\nN = len(time)\nw = np.random.normal(loc=0, scale=sigma, size=N)"
      ]
    },
    {
      "cell_type": "markdown",
      "metadata": {},
      "source": [
        "## Create moving average time series\n\n\n"
      ]
    },
    {
      "cell_type": "code",
      "execution_count": null,
      "metadata": {
        "collapsed": false
      },
      "outputs": [],
      "source": [
        "ma = np.empty(len(w), dtype=np.double)\nma[0] = (w[0] + w[1]) / 3\nfor i in range(1, len(w)-1):\n    ma[i] = (w[i-1] + w[i] + w[i+1]) / 3\nma[-1] = (w[-2] + w[-1]) / 3"
      ]
    },
    {
      "cell_type": "markdown",
      "metadata": {},
      "source": [
        "## Estimate autocovariance\n\n\n"
      ]
    },
    {
      "cell_type": "code",
      "execution_count": null,
      "metadata": {
        "collapsed": false
      },
      "outputs": [],
      "source": [
        "estAcov = np.zeros(len(lags))\nanaAcov = np.zeros(len(lags))\nmaMu = np.mean(ma)\nfor h in lags:\n    if h == 0:\n        anaAcov[h] = 3.0 / 9 * sigma**2\n        xs = ma - maMu\n        xt = ma - maMu\n    else:\n        xs = ma[h:] - maMu\n        xt = ma[:-h] - maMu\n        if h == 1:\n            anaAcov[h] = 2.0 / 9 * sigma**2\n        elif h == 2:\n            anaAcov[h] = 1.0 / 9 * sigma**2\n    estAcov[h] = np.mean(xs * xt)"
      ]
    },
    {
      "cell_type": "markdown",
      "metadata": {},
      "source": [
        "## Plot moving average time series, true and estimated autocovariance\n\n\n"
      ]
    },
    {
      "cell_type": "code",
      "execution_count": null,
      "metadata": {
        "collapsed": false
      },
      "outputs": [],
      "source": [
        "fig = go.Figure()\ntrace = go.Scatter(x=time, y=ma, mode=\"lines+markers\")\nfig.add_trace(trace)\nfig.update_layout(xaxis=dict(title=\"Time (sec)\"), yaxis=dict(title=\"x\"))\n\nif not os.path.exists(\"figures\"):\n    os.mkdir(\"figures\")\n\nfig.write_html(f\"figures/movingAverageSamplesN{T}.html\")\nfig.write_image(f\"figures/movingAverageSamplesN{T}.png\")\n\nfig = go.Figure()\ntrace = go.Scatter(x=lags, y=anaAcov, mode=\"lines+markers\", name=\"analytical\")\nfig.add_trace(trace)\ntrace = go.Scatter(x=lags, y=estAcov, mode=\"lines+markers\", name=\"estimated\")\nfig.add_trace(trace)\nfig.update_layout(title=f\"N={T}\", xaxis=dict(title=\"Lag (samples)\"),\n                  yaxis=dict(title=\"Autocovariance\"))\n\nif not os.path.exists(\"figures\"):\n    os.mkdir(\"figures\")\n\nfig.write_html(f\"figures/movingAverageAutoCovN{T}.html\")\nfig.write_image(f\"figures/movingAverageAutoCovN{T}.png\")\n\nfig"
      ]
    }
  ],
  "metadata": {
    "kernelspec": {
      "display_name": "Python 3",
      "language": "python",
      "name": "python3"
    },
    "language_info": {
      "codemirror_mode": {
        "name": "ipython",
        "version": 3
      },
      "file_extension": ".py",
      "mimetype": "text/x-python",
      "name": "python",
      "nbconvert_exporter": "python",
      "pygments_lexer": "ipython3",
      "version": "3.13.2"
    }
  },
  "nbformat": 4,
  "nbformat_minor": 0
}